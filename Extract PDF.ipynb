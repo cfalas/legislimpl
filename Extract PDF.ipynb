{
 "cells": [
  {
   "cell_type": "code",
   "execution_count": 20,
   "id": "a82295cc",
   "metadata": {},
   "outputs": [],
   "source": [
    "import PyPDF2\n",
    "import requests\n",
    "import io\n",
    "from pdfminer.pdfinterp import PDFResourceManager, PDFPageInterpreter\n",
    "from pdfminer.layout import LAParams\n",
    "from pdfminer.converter import TextConverter\n",
    "from pdfminer.pdfpage import PDFPage\n",
    "import urllib.request\n",
    "import os"
   ]
  },
  {
   "cell_type": "code",
   "execution_count": 16,
   "id": "87b79e36",
   "metadata": {},
   "outputs": [],
   "source": [
    "base_url = 'https://api.govinfo.gov'\n",
    "query = '?api_key=oheReJtqERpvb0Wp49qV4Exow10jobDSCF8QtzhR'"
   ]
  },
  {
   "cell_type": "code",
   "execution_count": 17,
   "id": "3a628bad",
   "metadata": {
    "scrolled": true
   },
   "outputs": [
    {
     "name": "stdout",
     "output_type": "stream",
     "text": [
      "https://api.govinfo.gov/collections/BILLS/2022-01-01T00:00:00Z?api_key=oheReJtqERpvb0Wp49qV4Exow10jobDSCF8QtzhR\n",
      "https://api.govinfo.gov/collections/BILLS/2022-01-01T00:00:00Z?api_key=oheReJtqERpvb0Wp49qV4Exow10jobDSCF8QtzhR\n",
      "https://api.govinfo.gov/collections/BILLS/2022-01-01T00:00:00Z?api_key=oheReJtqERpvb0Wp49qV4Exow10jobDSCF8QtzhR\n",
      "https://api.govinfo.gov/collections/BILLS/2022-01-01T00:00:00Z?api_key=oheReJtqERpvb0Wp49qV4Exow10jobDSCF8QtzhR\n",
      "https://api.govinfo.gov/collections/BILLS/2022-01-01T00:00:00Z?api_key=oheReJtqERpvb0Wp49qV4Exow10jobDSCF8QtzhR\n",
      "https://api.govinfo.gov/collections/BILLS/2022-01-01T00:00:00Z?api_key=oheReJtqERpvb0Wp49qV4Exow10jobDSCF8QtzhR\n",
      "https://api.govinfo.gov/collections/BILLS/2022-01-01T00:00:00Z?api_key=oheReJtqERpvb0Wp49qV4Exow10jobDSCF8QtzhR\n",
      "https://api.govinfo.gov/collections/BILLS/2022-01-01T00:00:00Z?api_key=oheReJtqERpvb0Wp49qV4Exow10jobDSCF8QtzhR\n",
      "https://api.govinfo.gov/collections/BILLS/2022-01-01T00:00:00Z?api_key=oheReJtqERpvb0Wp49qV4Exow10jobDSCF8QtzhR\n",
      "https://api.govinfo.gov/collections/BILLS/2022-01-01T00:00:00Z?api_key=oheReJtqERpvb0Wp49qV4Exow10jobDSCF8QtzhR\n"
     ]
    }
   ],
   "source": [
    "bill_ids = []\n",
    "def get_bills(offset=0):\n",
    "    global bill_ids\n",
    "    f = requests.get(f'{base_url}/collections/BILLS/2022-01-01T00:00:00Z{query}&offset={offset}&pageSize=100').json()\n",
    "    print(f'{base_url}/collections/BILLS/2022-01-01T00:00:00Z{query}')\n",
    "    f = f['packages']\n",
    "    bill_ids += [bill['packageId'] for bill in f]\n",
    "for x in range(100, 1100, 100):\n",
    "    get_bills(offset=x)"
   ]
  },
  {
   "cell_type": "code",
   "execution_count": 12,
   "id": "8a90de53",
   "metadata": {},
   "outputs": [
    {
     "data": {
      "text/plain": [
       "1000"
      ]
     },
     "execution_count": 12,
     "metadata": {},
     "output_type": "execute_result"
    }
   ],
   "source": [
    "len(bill_ids)"
   ]
  },
  {
   "cell_type": "code",
   "execution_count": 13,
   "id": "3364c803",
   "metadata": {},
   "outputs": [],
   "source": [
    "def parse_html(text):\n",
    "    text = text.decode('ascii')\n",
    "    text = text[17:-21]\n",
    "    text = text.replace('&lt;DOC&gt;', '')\n",
    "    text = text.replace('&lt;all&gt;', '')\n",
    "    return text"
   ]
  },
  {
   "cell_type": "code",
   "execution_count": 14,
   "id": "6d1b3b14",
   "metadata": {
    "scrolled": true
   },
   "outputs": [],
   "source": [
    "def get_text(package_id):\n",
    "    f = requests.get(f'{base_url}/packages/{package_id}/htm{query}').content\n",
    "    return parse_html(f)"
   ]
  },
  {
   "cell_type": "code",
   "execution_count": 21,
   "id": "2cf47061",
   "metadata": {},
   "outputs": [],
   "source": [
    "for bill in bill_ids:\n",
    "    if f'{bill}.txt' not in os.listdir('./sample_pdfs'):\n",
    "        open(f'./sample_pdfs/{bill}.txt', 'w+').write(get_text(bill))"
   ]
  },
  {
   "cell_type": "code",
   "execution_count": 13,
   "id": "23630578",
   "metadata": {},
   "outputs": [],
   "source": [
    "def pdf_to_text(pdf_file):\n",
    "    text_memory_file = io.StringIO()\n",
    "\n",
    "    rsrcmgr = PDFResourceManager()\n",
    "    device = TextConverter(rsrcmgr, text_memory_file, laparams=LAParams())\n",
    "    interpreter = PDFPageInterpreter(rsrcmgr, device)\n",
    "    # get first 3 pages of the pdf file\n",
    "    for page in PDFPage.get_pages(pdf_file, pagenos=(0, 1, 2)):\n",
    "        interpreter.process_page(page)\n",
    "    text = text_memory_file.getvalue()\n",
    "    text_memory_file.close()\n",
    "    return text"
   ]
  },
  {
   "cell_type": "code",
   "execution_count": 18,
   "id": "69cd3d99",
   "metadata": {},
   "outputs": [],
   "source": [
    "def get_document_text(pub_id, doc_id):\n",
    "    response = requests.get(f'{base_url}/Publications/{pub_id}/Documents/{doc_id}/Download')\n",
    "    print(response.status_code)\n",
    "    with io.BytesIO(response.content) as pdf_file:\n",
    "        return pdf_to_text(pdf_file)"
   ]
  },
  {
   "cell_type": "code",
   "execution_count": 21,
   "id": "a46acee2",
   "metadata": {},
   "outputs": [
    {
     "name": "stdout",
     "output_type": "stream",
     "text": [
      "{'house': 'Commons', 'id': 18315, 'title': 'Bill 276 2017-19 (as introduced)', 'publicationType': {'id': 5, 'name': 'Bill', 'description': 'Full text of the Bill as introduced and further versions of the Bill as it is reprinted to incorporate amendments (proposals for change) made during its passage through Parliament.'}, 'displayDate': '2018-11-20T00:00:00', 'links': [{'id': 25898, 'title': 'Bill 276 2017-19 (as introduced)', 'url': 'https://publications.parliament.uk/pa/bills/cbill/2017-2019/0276/cbill_2017-20190276_en_1.htm', 'contentType': 'text/html'}, {'id': 25899, 'title': 'Bill 276 2017-19 (as introduced)', 'url': 'https://publications.parliament.uk/pa/bills/cbill/2017-2019/0276/18276.pdf', 'contentType': 'application/pdf'}], 'files': []}\n",
      "404\n"
     ]
    },
    {
     "ename": "PDFSyntaxError",
     "evalue": "No /Root object! - Is this really a PDF?",
     "output_type": "error",
     "traceback": [
      "\u001b[0;31m---------------------------------------------------------------------------\u001b[0m",
      "\u001b[0;31mPDFSyntaxError\u001b[0m                            Traceback (most recent call last)",
      "Input \u001b[0;32mIn [21]\u001b[0m, in \u001b[0;36m<cell line: 4>\u001b[0;34m()\u001b[0m\n\u001b[1;32m      2\u001b[0m document \u001b[38;5;241m=\u001b[39m publication[\u001b[38;5;124m'\u001b[39m\u001b[38;5;124mlinks\u001b[39m\u001b[38;5;124m'\u001b[39m][\u001b[38;5;241m0\u001b[39m][\u001b[38;5;124m'\u001b[39m\u001b[38;5;124mid\u001b[39m\u001b[38;5;124m'\u001b[39m]\n\u001b[1;32m      3\u001b[0m \u001b[38;5;28mprint\u001b[39m(publication)\n\u001b[0;32m----> 4\u001b[0m \u001b[43mget_document_text\u001b[49m\u001b[43m(\u001b[49m\u001b[43mpublication\u001b[49m\u001b[43m[\u001b[49m\u001b[38;5;124;43m'\u001b[39;49m\u001b[38;5;124;43mid\u001b[39;49m\u001b[38;5;124;43m'\u001b[39;49m\u001b[43m]\u001b[49m\u001b[43m,\u001b[49m\u001b[43m \u001b[49m\u001b[43mdocument\u001b[49m\u001b[43m)\u001b[49m\n",
      "Input \u001b[0;32mIn [18]\u001b[0m, in \u001b[0;36mget_document_text\u001b[0;34m(pub_id, doc_id)\u001b[0m\n\u001b[1;32m      3\u001b[0m \u001b[38;5;28mprint\u001b[39m(response\u001b[38;5;241m.\u001b[39mstatus_code)\n\u001b[1;32m      4\u001b[0m \u001b[38;5;28;01mwith\u001b[39;00m io\u001b[38;5;241m.\u001b[39mBytesIO(response\u001b[38;5;241m.\u001b[39mcontent) \u001b[38;5;28;01mas\u001b[39;00m pdf_file:\n\u001b[0;32m----> 5\u001b[0m     \u001b[38;5;28;01mreturn\u001b[39;00m \u001b[43mpdf_to_text\u001b[49m\u001b[43m(\u001b[49m\u001b[43mpdf_file\u001b[49m\u001b[43m)\u001b[49m\n",
      "Input \u001b[0;32mIn [13]\u001b[0m, in \u001b[0;36mpdf_to_text\u001b[0;34m(pdf_file)\u001b[0m\n\u001b[1;32m      6\u001b[0m interpreter \u001b[38;5;241m=\u001b[39m PDFPageInterpreter(rsrcmgr, device)\n\u001b[1;32m      7\u001b[0m \u001b[38;5;66;03m# get first 3 pages of the pdf file\u001b[39;00m\n\u001b[0;32m----> 8\u001b[0m \u001b[38;5;28;01mfor\u001b[39;00m page \u001b[38;5;129;01min\u001b[39;00m PDFPage\u001b[38;5;241m.\u001b[39mget_pages(pdf_file, pagenos\u001b[38;5;241m=\u001b[39m(\u001b[38;5;241m0\u001b[39m, \u001b[38;5;241m1\u001b[39m, \u001b[38;5;241m2\u001b[39m)):\n\u001b[1;32m      9\u001b[0m     interpreter\u001b[38;5;241m.\u001b[39mprocess_page(page)\n\u001b[1;32m     10\u001b[0m text \u001b[38;5;241m=\u001b[39m text_memory_file\u001b[38;5;241m.\u001b[39mgetvalue()\n",
      "File \u001b[0;32m/usr/lib/python3.10/site-packages/pdfminer/pdfpage.py:147\u001b[0m, in \u001b[0;36mPDFPage.get_pages\u001b[0;34m(cls, fp, pagenos, maxpages, password, caching, check_extractable)\u001b[0m\n\u001b[1;32m    145\u001b[0m parser \u001b[38;5;241m=\u001b[39m PDFParser(fp)\n\u001b[1;32m    146\u001b[0m \u001b[38;5;66;03m# Create a PDF document object that stores the document structure.\u001b[39;00m\n\u001b[0;32m--> 147\u001b[0m doc \u001b[38;5;241m=\u001b[39m \u001b[43mPDFDocument\u001b[49m\u001b[43m(\u001b[49m\u001b[43mparser\u001b[49m\u001b[43m,\u001b[49m\u001b[43m \u001b[49m\u001b[43mpassword\u001b[49m\u001b[38;5;241;43m=\u001b[39;49m\u001b[43mpassword\u001b[49m\u001b[43m,\u001b[49m\u001b[43m \u001b[49m\u001b[43mcaching\u001b[49m\u001b[38;5;241;43m=\u001b[39;49m\u001b[43mcaching\u001b[49m\u001b[43m)\u001b[49m\n\u001b[1;32m    148\u001b[0m \u001b[38;5;66;03m# Check if the document allows text extraction.\u001b[39;00m\n\u001b[1;32m    149\u001b[0m \u001b[38;5;66;03m# If not, warn the user and proceed.\u001b[39;00m\n\u001b[1;32m    150\u001b[0m \u001b[38;5;28;01mif\u001b[39;00m \u001b[38;5;129;01mnot\u001b[39;00m doc\u001b[38;5;241m.\u001b[39mis_extractable:\n",
      "File \u001b[0;32m/usr/lib/python3.10/site-packages/pdfminer/pdfdocument.py:726\u001b[0m, in \u001b[0;36mPDFDocument.__init__\u001b[0;34m(self, parser, password, caching, fallback)\u001b[0m\n\u001b[1;32m    724\u001b[0m         \u001b[38;5;28;01mbreak\u001b[39;00m\n\u001b[1;32m    725\u001b[0m \u001b[38;5;28;01melse\u001b[39;00m:\n\u001b[0;32m--> 726\u001b[0m     \u001b[38;5;28;01mraise\u001b[39;00m PDFSyntaxError(\u001b[38;5;124m'\u001b[39m\u001b[38;5;124mNo /Root object! - Is this really a PDF?\u001b[39m\u001b[38;5;124m'\u001b[39m)\n\u001b[1;32m    727\u001b[0m \u001b[38;5;28;01mif\u001b[39;00m \u001b[38;5;28mself\u001b[39m\u001b[38;5;241m.\u001b[39mcatalog\u001b[38;5;241m.\u001b[39mget(\u001b[38;5;124m'\u001b[39m\u001b[38;5;124mType\u001b[39m\u001b[38;5;124m'\u001b[39m) \u001b[38;5;129;01mis\u001b[39;00m \u001b[38;5;129;01mnot\u001b[39;00m LITERAL_CATALOG:\n\u001b[1;32m    728\u001b[0m     \u001b[38;5;28;01mif\u001b[39;00m settings\u001b[38;5;241m.\u001b[39mSTRICT:\n",
      "\u001b[0;31mPDFSyntaxError\u001b[0m: No /Root object! - Is this really a PDF?"
     ]
    }
   ],
   "source": [
    "publication = get_bill_publications(bill_ids[1])[0]\n",
    "document = publication['links'][0]['id']\n",
    "print(publication)\n",
    "get_document_text(publication['id'], document)"
   ]
  },
  {
   "cell_type": "code",
   "execution_count": null,
   "id": "03a150df",
   "metadata": {},
   "outputs": [],
   "source": []
  }
 ],
 "metadata": {
  "kernelspec": {
   "display_name": "Python 3",
   "language": "python",
   "name": "python3"
  },
  "language_info": {
   "codemirror_mode": {
    "name": "ipython",
    "version": 3
   },
   "file_extension": ".py",
   "mimetype": "text/x-python",
   "name": "python",
   "nbconvert_exporter": "python",
   "pygments_lexer": "ipython3",
   "version": "3.10.4"
  }
 },
 "nbformat": 4,
 "nbformat_minor": 5
}
